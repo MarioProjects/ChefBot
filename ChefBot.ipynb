{
 "cells": [
  {
   "cell_type": "markdown",
   "metadata": {},
   "source": [
    "## Pruebas toma audio"
   ]
  },
  {
   "cell_type": "code",
   "execution_count": 1,
   "metadata": {},
   "outputs": [],
   "source": [
    "# Para el reconocimiento de voz\n",
    "import speech_recognition as sr"
   ]
  },
  {
   "cell_type": "code",
   "execution_count": 2,
   "metadata": {},
   "outputs": [],
   "source": [
    "def record_to_text(debug=False):\n",
    "    # Record Audio\n",
    "    r = sr.Recognizer()\n",
    "    with sr.Microphone() as source:\n",
    "        #if debug:\n",
    "        #    print(\"Say something!\")\n",
    "        audio = r.listen(source)\n",
    "    # Speech recognition using Google Speech Recognition\n",
    "    recognized = False\n",
    "    try:\n",
    "        # for testing purposes, we're just using the default API key\n",
    "        # to use another API key, use `r.recognize_google(audio, key=\"GOOGLE_SPEECH_RECOGNITION_API_KEY\")`\n",
    "        # instead of `r.recognize_google(audio)`\n",
    "        recognized = r.recognize_google(audio)\n",
    "        if debug:\n",
    "            print(\"You said: \" + str(recognized))\n",
    "    except sr.UnknownValueError:\n",
    "        if debug:\n",
    "            print(\"Google Speech Recognition could not understand audio\")\n",
    "    except sr.RequestError as e:\n",
    "        if debug:\n",
    "            print(\"Could not request results from Google Speech Recognition service; {0}\".format(e))\n",
    "    if not recognized or None:\n",
    "        record_to_text(debug)\n",
    "    else:\n",
    "        return recognized"
   ]
  },
  {
   "cell_type": "code",
   "execution_count": 4,
   "metadata": {},
   "outputs": [
    {
     "name": "stdout",
     "output_type": "stream",
     "text": [
      "You said: hello world\n"
     ]
    },
    {
     "data": {
      "text/plain": [
       "'hello world'"
      ]
     },
     "execution_count": 4,
     "metadata": {},
     "output_type": "execute_result"
    }
   ],
   "source": [
    "record_to_text(True)"
   ]
  },
  {
   "cell_type": "markdown",
   "metadata": {},
   "source": [
    "## ChefBot DialogFlow"
   ]
  },
  {
   "cell_type": "code",
   "execution_count": 5,
   "metadata": {},
   "outputs": [],
   "source": [
    "# Importamos el archivo con las funciones que nos permitiran realizar búsquedas de cocina\n",
    "import recipe_searcher as rs"
   ]
  },
  {
   "cell_type": "code",
   "execution_count": 6,
   "metadata": {},
   "outputs": [],
   "source": [
    "import apiai\n",
    "import json\n",
    "import sys\n",
    "# Con win32com.client podremos sacar texto a audio por los altavoces\n",
    "import win32com.client as wincl\n",
    "chef = wincl.Dispatch(\"SAPI.SpVoice\")"
   ]
  },
  {
   "cell_type": "markdown",
   "metadata": {},
   "source": [
    "### Procesador de las respuestas del Bot"
   ]
  },
  {
   "cell_type": "code",
   "execution_count": 7,
   "metadata": {},
   "outputs": [],
   "source": [
    "def process_response(response, debug=False):\n",
    "    \n",
    "    # Le pasamos un diccionario que es la respuesta de DialogFlow\n",
    "    rSearch = \"\"\n",
    "    confirmed = False\n",
    "    \n",
    "    if debug:\n",
    "        print(json.dumps(response, indent=4))\n",
    "        print(response.keys())\n",
    "        \n",
    "    contexts = response['result']['contexts']\n",
    "    \n",
    "    if len(contexts) > 0 and debug:\n",
    "        print (list(c['name'] for c in contexts))\n",
    "    \n",
    "    # Si entre los contextos esta 'confirm' es por que el usuario ha confirmado \n",
    "    # los ingredientes y/o tipos de recetas que desea\n",
    "    if any(c['name'] == 'confirm' for c in contexts):\n",
    "        for c in contexts:\n",
    "            if c['name'] == 'recipe_config':\n",
    "                # Los parametros pueden llegar como listas o string\n",
    "                rtype = c['parameters']['type']\n",
    "                ringredients = c['parameters']['type']\n",
    "                if type(rtype) is not str:\n",
    "                    rtype = ' '.join(c['parameters']['type'])\n",
    "                if type(ringredients) is not str:\n",
    "                    ringredients = ' '.join(c['parameters']['ingredients'])\n",
    "                rSearch = (rtype + ' ' + ringredients).strip()\n",
    "        if debug:\n",
    "            print (json.dumps(response['result'], indent=4))\n",
    "            \n",
    "    # Si entre los contextos esta 'confirmed' es que ya hemos acabado\n",
    "    if any(c['name'] == 'finish' for c in contexts):\n",
    "        confirmed = True\n",
    "        if debug:\n",
    "            print (json.dumps(response['result'], indent=4))\n",
    "    \n",
    "    # Almacenamos la respuesta que proporciona el bot de DialogFlow para devolverla\n",
    "    answer = response['result']['fulfillment']['speech']\n",
    "    \n",
    "    return answer, rSearch, confirmed"
   ]
  },
  {
   "cell_type": "markdown",
   "metadata": {},
   "source": [
    "### Logica ejecución"
   ]
  },
  {
   "cell_type": "code",
   "execution_count": 25,
   "metadata": {},
   "outputs": [],
   "source": [
    "def ChefBotSpeech():\n",
    "    \"\"\"\n",
    "        Para esta versión necesitarás un microfono y unos altavoces\n",
    "        Cuando el sistema (chef) realice sus preguntas deberás responder con la voz\n",
    "    \"\"\"\n",
    "    CLIENT_ACCESS_TOKEN = \"30309bed62544139abc0718a65a9f97f\"\n",
    "    ai = apiai.ApiAI(CLIENT_ACCESS_TOKEN)\n",
    "    #peticion de inicio del dialogo\n",
    "    request = ai.event_request(apiai.events.Event(\"WELCOME\")) #Disparamos el evento WELCOME\n",
    "    request.lang = 'en'  #(Opcional: Decimos que idioma es ingles (en))\n",
    "\n",
    "    response = request.getresponse() # Obtenemos la respuesta para nuestra peticion\n",
    "\n",
    "    #La respuesta viene en binario y hay que transformarla para JSON\n",
    "    json_res = json.loads(response.read().decode('utf8'))\n",
    "\n",
    "    # Disponemos de funciones para obtener el texto de la respuesta JSON\n",
    "    utterance, _, _ = process_response(json_res)\n",
    "    print(\"System:\", utterance)\n",
    "    \n",
    "    # Realizamos un bucle hasta que finalizamos (contexto finish)\n",
    "    end = False\n",
    "    recipe_found = False\n",
    "    while not end:\n",
    "        user_turn = record_to_text(True)\n",
    "        request = ai.text_request() # Disponemos de un speech request tambien para enviar el audio\n",
    "        request.query = user_turn\n",
    "        response = request.getresponse()\n",
    "        json_res = json.loads(response.read().decode('utf8'))\n",
    "        utterance, rSearch, end = process_response(json_res)\n",
    "        if rSearch and not recipe_found:\n",
    "            recipe_found = rSearch\n",
    "        print(\"\\nSystem:\", utterance)\n",
    "        if recipe_found and not end:\n",
    "            rs.get_popular_recipes(recipe_found)\n",
    "            print(\"\\nAre you okey with this recipe or you want another one?\")"
   ]
  },
  {
   "cell_type": "code",
   "execution_count": 9,
   "metadata": {},
   "outputs": [],
   "source": [
    "def ChefBot():\n",
    "    \"\"\"\n",
    "        Versión del chef que funciona mediante la entrada de texto por teclado\n",
    "    \"\"\"\n",
    "    CLIENT_ACCESS_TOKEN = \"30309bed62544139abc0718a65a9f97f\"\n",
    "    ai = apiai.ApiAI(CLIENT_ACCESS_TOKEN)\n",
    "    #peticion de inicio del dialogo\n",
    "    request = ai.event_request(apiai.events.Event(\"WELCOME\")) #Disparamos el evento WELCOME\n",
    "    request.lang = 'en'  #(Opcional: Decimos que idioma es ingles (en))\n",
    "\n",
    "    response = request.getresponse() # Obtenemos la respuesta para nuestra peticion\n",
    "\n",
    "    #La respuesta viene en binario y hay que transformarla para JSON\n",
    "    json_res = json.loads(response.read().decode('utf8'))\n",
    "\n",
    "    # Disponemos de funciones para obtener el texto de la respuesta JSON\n",
    "    utterance, _, _ = process_response(json_res)\n",
    "    print(\"System:\", utterance)\n",
    "    \n",
    "    # Realizamos un bucle hasta que finalizamos (contexto finish)\n",
    "    print()\n",
    "    end = False\n",
    "    recipe_found = False\n",
    "    while not end:\n",
    "        user_turn = input('-->:')\n",
    "        request = ai.text_request() # Disponemos de un speech request tambien para enviar el audio\n",
    "        request.query = user_turn\n",
    "        response = request.getresponse()\n",
    "        json_res = json.loads(response.read().decode('utf8'))\n",
    "        utterance, rSearch, end = process_response(json_res)\n",
    "        if rSearch and not recipe_found:\n",
    "            recipe_found = rSearch\n",
    "        print(\"\\nSystem:\", utterance)\n",
    "        if recipe_found and not end:\n",
    "            rs.get_popular_recipes(recipe_found)\n",
    "            print(\"\\nAre you okey with this recipe or you want another one?\")"
   ]
  },
  {
   "cell_type": "code",
   "execution_count": 11,
   "metadata": {
    "scrolled": false
   },
   "outputs": [
    {
     "name": "stdout",
     "output_type": "stream",
     "text": [
      "System: ChefBot ready! What do you want to eat?\n",
      "\n",
      "-->:I like brownies\n",
      "\n",
      "System: If I understood you well, you want brownies?\n",
      "-->:yes sir\n",
      "\n",
      "System: Thanks for your help.\n",
      "\n",
      "Slutty Brownies (Whats Gaby Cooking)\n",
      "  url: http://whatsgabycooking.com/slutty-brownies/\n",
      "  ingredients:\n",
      "    10 tbsp unsalted butter\n",
      "    1 1/4 cups white sugar\n",
      "    3/4 cup cocoa powder\n",
      "    1/2 tsp salt\n",
      "    2 tsp vanilla extract\n",
      "    2 large eggs\n",
      "    1/2 cup AP flour\n",
      "    For the Oreo layer:1 package of Oreo (regular stuffed or double stuffed)\n",
      "    For the Cookie Dough layer:1/2 cup unsalted butter (at room temp)\n",
      "    1/4 cup brown sugar\n",
      "    3/4 cup white sugar\n",
      "    1 egg\n",
      "    1 1/4 tsp vanilla extract\n",
      "    1 1/4 cups AP flour\n",
      "    1/2 tsp salt\n",
      "    1/2 tsp baking soda\n",
      "    1/2 tsp baking powder\n",
      "    1 cup semi-sweet chocolate chips\n",
      "    InstructionsFor the Brownie layer:\n",
      "\n",
      "Are you okey with this recipe or you want another one?\n",
      "-->:perfect\n",
      "\n",
      "System: Thank you very much until the next.\n"
     ]
    }
   ],
   "source": [
    "ChefBot()"
   ]
  },
  {
   "cell_type": "code",
   "execution_count": 10,
   "metadata": {
    "scrolled": false
   },
   "outputs": [
    {
     "name": "stdout",
     "output_type": "stream",
     "text": [
      "System: Welcome to ChefBot. What kind of recipe are you interested in?\n",
      "\n",
      "-->:I want something with bacon and maybe ham\n",
      "\n",
      "System: If I understood you well, you want food with bacon and ham?\n",
      "-->:yes please\n",
      "\n",
      "System: Thanks, let's try to find the best recipe for you!\n",
      "\n",
      "Black Bean Soup With Chorizo, Ham, and Bacon (Tasty Kitchen)\n",
      "  url: http://tastykitchen.com/recipes/soups/black-bean-soup-with-chorizo-ham-and-bacon/\n",
      "  ingredients:\n",
      "    6 slices 6 slices\n",
      "    8 ounces, weight 8 ounces, weight\n",
      "    1 whole 1 whole\n",
      "    2 cloves 2 cloves\n",
      "    1 whole 1 whole\n",
      "    4 cans 4 cans\n",
      "    1 can 1 can\n",
      "    2 cups 2 cups\n",
      "    1 whole 1 whole\n",
      "    1 teaspoon 1 teaspoon\n",
      "    1 teaspoon 1 teaspoon\n",
      "\n",
      "Are you okey with this recipe or you want another one?\n",
      "-->:another one\n",
      "\n",
      "System: Let's go for the next one.\n",
      "\n",
      "Scalloped Potatoes with Ham and Bacon (All Recipes)\n",
      "  url: http://allrecipes.com/Recipe/Scalloped-Potatoes-With-Ham-And-Bacon/Detail.aspx\n",
      "  ingredients:\n",
      "    1 (16 ounce) package bacon\n",
      "    2/3 cup milk\n",
      "    2 tablespoons all-purpose flour\n",
      "    10 potatoes, peeled and sliced\n",
      "    2 onions, sliced\n",
      "    3 pounds cubed fully cooked ham\n",
      "    2 (16 ounce) packages shredded Cheddar cheese\n",
      "    2 tablespoons salt\n",
      "    2 tablespoons ground black pepper\n",
      "\n",
      "Are you okey with this recipe or you want another one?\n",
      "-->:yes\n",
      "\n",
      "System: Happy to have helped you.\n"
     ]
    }
   ],
   "source": [
    "ChefBot()"
   ]
  },
  {
   "cell_type": "code",
   "execution_count": 26,
   "metadata": {},
   "outputs": [
    {
     "name": "stdout",
     "output_type": "stream",
     "text": [
      "System: Chefbot at your service. Are you looking for something to eat?\n",
      "You said: I want something with rice\n",
      "\n",
      "System: Are you looking for foiod with rice recipes?\n",
      "You said: yes\n",
      "\n",
      "System: We are looking for a recipe that suits your requirements.\n",
      "\n",
      "French Onion Soup (Closet Cooking)\n",
      "  url: http://www.closetcooking.com/2010/10/french-onion-soup.html\n",
      "  ingredients:\n",
      "    1/4 cup butter\n",
      "    4 pounds onions, sliced\n",
      "    2 cloves garlic, chopped\n",
      "    1 teaspoon thyme, chopped\n",
      "    1/4 cup flour (rice flour for gluten free)\n",
      "    1 cup red wine (or beef or vegetable broth + 1 tablespoon balsamic vinegar)\n",
      "    3 cups beef or vegetable broth\n",
      "    2 bay leaves\n",
      "    salt and pepper to taste\n",
      "    4 1/2 inch thick slices of day old bread, toasted\n",
      "    1 cup gruyere, grated\n",
      "    1/4 cup parmesan, grated\n",
      "\n",
      "\n",
      "Are you okey with this recipe or you want another one?\n",
      "You said: it's okay\n",
      "\n",
      "System: Happy to have helped you.\n"
     ]
    }
   ],
   "source": [
    "ChefBotSpeech()"
   ]
  }
 ],
 "metadata": {
  "anaconda-cloud": {},
  "kernelspec": {
   "display_name": "Python 3",
   "language": "python",
   "name": "python3"
  },
  "language_info": {
   "codemirror_mode": {
    "name": "ipython",
    "version": 3
   },
   "file_extension": ".py",
   "mimetype": "text/x-python",
   "name": "python",
   "nbconvert_exporter": "python",
   "pygments_lexer": "ipython3",
   "version": "3.6.4"
  }
 },
 "nbformat": 4,
 "nbformat_minor": 1
}
